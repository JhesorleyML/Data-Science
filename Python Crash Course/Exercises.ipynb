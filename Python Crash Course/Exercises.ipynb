{
 "cells": [
  {
   "cell_type": "code",
   "execution_count": 1,
   "id": "2e9e56da-b411-46df-a80c-66526e7e5589",
   "metadata": {},
   "outputs": [],
   "source": [
    "# 1. What is 7 to the power of 4"
   ]
  },
  {
   "cell_type": "code",
   "execution_count": 2,
   "id": "8eb557eb-79c5-421a-8cbb-f8cbe8606466",
   "metadata": {},
   "outputs": [
    {
     "data": {
      "text/plain": [
       "2401"
      ]
     },
     "execution_count": 2,
     "metadata": {},
     "output_type": "execute_result"
    }
   ],
   "source": [
    "7 ** 4"
   ]
  },
  {
   "cell_type": "code",
   "execution_count": 3,
   "id": "3a87c893-1db9-4ed6-a51c-c6b6f57ec16c",
   "metadata": {},
   "outputs": [],
   "source": [
    "# 2. Split the string into a list"
   ]
  },
  {
   "cell_type": "markdown",
   "id": "acbee42b-1baa-421a-a912-c36564c40385",
   "metadata": {},
   "source": [
    "s = \"Hi there Sam!\""
   ]
  },
  {
   "cell_type": "code",
   "execution_count": 4,
   "id": "64fc7e48-2843-46a7-95f6-25a86885abfb",
   "metadata": {},
   "outputs": [],
   "source": [
    "s = 'Hi there Sam!'"
   ]
  },
  {
   "cell_type": "code",
   "execution_count": 5,
   "id": "1a12f0a9-ede5-47ec-b8a5-60656a613dc8",
   "metadata": {},
   "outputs": [
    {
     "data": {
      "text/plain": [
       "['Hi', 'there', 'Sam!']"
      ]
     },
     "execution_count": 5,
     "metadata": {},
     "output_type": "execute_result"
    }
   ],
   "source": [
    "s.split()"
   ]
  },
  {
   "cell_type": "code",
   "execution_count": 6,
   "id": "68f2590c-922d-4214-bd99-68f8a7addb24",
   "metadata": {},
   "outputs": [],
   "source": [
    "d = {'k1':[1,2,3,{'trickey':['oh','man','inception',{'target':[1,2,3,'hello']}]}]}"
   ]
  },
  {
   "cell_type": "code",
   "execution_count": 14,
   "id": "964fafcd-3d32-46ff-aa2f-f44e786bebe9",
   "metadata": {},
   "outputs": [
    {
     "data": {
      "text/plain": [
       "'hello'"
      ]
     },
     "execution_count": 14,
     "metadata": {},
     "output_type": "execute_result"
    }
   ],
   "source": [
    "d['k1'][3]['trickey'][3]['target'][3]"
   ]
  },
  {
   "cell_type": "code",
   "execution_count": 15,
   "id": "8dd7ae4e-9144-40f5-b2d0-825efb0f178d",
   "metadata": {},
   "outputs": [],
   "source": [
    "# Create a function that grabs the email website domain from a string in the form"
   ]
  },
  {
   "cell_type": "code",
   "execution_count": 16,
   "id": "0d94128e-ea5f-4b6d-a2df-b3a77c0e9c98",
   "metadata": {},
   "outputs": [],
   "source": [
    "# user@domain.com"
   ]
  },
  {
   "cell_type": "code",
   "execution_count": 17,
   "id": "ccfd71f4-8635-4623-a764-de067ddf1e6d",
   "metadata": {},
   "outputs": [],
   "source": [
    "# So for example, passing \"user@domain.com\" would return: domain.com"
   ]
  },
  {
   "cell_type": "code",
   "execution_count": 19,
   "id": "04049926-80c2-4dcd-ac45-a85751ef95fb",
   "metadata": {},
   "outputs": [],
   "source": [
    "def domainGet(email):\n",
    "    return email.split('@')[1]"
   ]
  },
  {
   "cell_type": "code",
   "execution_count": 20,
   "id": "ef50179f-5c60-4eef-835a-c829920f394e",
   "metadata": {},
   "outputs": [
    {
     "data": {
      "text/plain": [
       "'domain.com'"
      ]
     },
     "execution_count": 20,
     "metadata": {},
     "output_type": "execute_result"
    }
   ],
   "source": [
    "domainGet('user@domain.com')"
   ]
  },
  {
   "cell_type": "code",
   "execution_count": 21,
   "id": "489b0696-ec69-4670-b752-ad91038e0b04",
   "metadata": {},
   "outputs": [],
   "source": [
    "# Create a basic function that returns True if the word 'dog' is contained"
   ]
  },
  {
   "cell_type": "code",
   "execution_count": 22,
   "id": "820725c2-7e08-4dec-99d9-ffd6f6da910a",
   "metadata": {},
   "outputs": [],
   "source": [
    "# in the input string. Don't worry about edge cases like punctuation being attached"
   ]
  },
  {
   "cell_type": "code",
   "execution_count": 32,
   "id": "1d7d4613-dfa4-45aa-a3d3-8dd2e31fec57",
   "metadata": {},
   "outputs": [],
   "source": [
    "# to the word dog, but do account for capitalization"
   ]
  },
  {
   "cell_type": "code",
   "execution_count": 26,
   "id": "0a7f9632-17c9-4fbd-8349-f39e482b1622",
   "metadata": {},
   "outputs": [],
   "source": [
    "def findDog(inputString):\n",
    "    lst = inputString.lower().split()\n",
    "    return 'dog' in lst"
   ]
  },
  {
   "cell_type": "code",
   "execution_count": 31,
   "id": "47f47d98-616d-4fe2-9b57-3c9f083bd81f",
   "metadata": {},
   "outputs": [
    {
     "data": {
      "text/plain": [
       "True"
      ]
     },
     "execution_count": 31,
     "metadata": {},
     "output_type": "execute_result"
    }
   ],
   "source": [
    "findDog('Is there a DOG here?')"
   ]
  },
  {
   "cell_type": "code",
   "execution_count": 33,
   "id": "d849e7ba-4e87-4148-8315-aa374d40bc61",
   "metadata": {},
   "outputs": [],
   "source": [
    "# Create a function that count the number of times the word 'dog' occurs"
   ]
  },
  {
   "cell_type": "code",
   "execution_count": 34,
   "id": "35b5c20b-d68d-4cfa-b7b8-f161b7d5606a",
   "metadata": {},
   "outputs": [],
   "source": [
    "# in a string. Again ignore edge cases"
   ]
  },
  {
   "cell_type": "code",
   "execution_count": 47,
   "id": "eb36e5d1-d816-4fa3-843a-d459c7bcf8ce",
   "metadata": {},
   "outputs": [],
   "source": [
    "def countDog(inputString):\n",
    "    lst = inputString.lower().split()\n",
    "    return lst.count('dog')"
   ]
  },
  {
   "cell_type": "code",
   "execution_count": 48,
   "id": "36fa88d8-24e1-49e1-b3f2-af2503522f70",
   "metadata": {},
   "outputs": [
    {
     "data": {
      "text/plain": [
       "2"
      ]
     },
     "execution_count": 48,
     "metadata": {},
     "output_type": "execute_result"
    }
   ],
   "source": [
    "countDog('This dog runs faster than the other dog dude!')"
   ]
  },
  {
   "cell_type": "code",
   "execution_count": 49,
   "id": "33c08d15-65b7-45cf-8784-3ee86b2aaddf",
   "metadata": {},
   "outputs": [],
   "source": [
    "# Use lambda expressions and the filter() function to filter out the words from a list that"
   ]
  },
  {
   "cell_type": "code",
   "execution_count": 50,
   "id": "e236e91e-dfbc-417e-951a-eeae0d2bb3b6",
   "metadata": {},
   "outputs": [],
   "source": [
    "# dont start with the letter 's'. For example "
   ]
  },
  {
   "cell_type": "code",
   "execution_count": null,
   "id": "1f12c2e4-a28e-4da2-ab42-898fc2e61bc1",
   "metadata": {},
   "outputs": [],
   "source": [
    "# seq = ['soup','dog','salad','cat', 'great']"
   ]
  },
  {
   "cell_type": "code",
   "execution_count": 51,
   "id": "d63ca2ba-bfe4-4ec7-bcd1-e22f396a5d6f",
   "metadata": {},
   "outputs": [],
   "source": [
    "# should be filtered down to "
   ]
  },
  {
   "cell_type": "code",
   "execution_count": 52,
   "id": "b1835ff0-cd4f-4dc7-bf95-415fa38d2304",
   "metadata": {},
   "outputs": [],
   "source": [
    "# ['soup','salad']"
   ]
  },
  {
   "cell_type": "code",
   "execution_count": 53,
   "id": "fe4f744f-f58b-4993-b407-37322410e023",
   "metadata": {},
   "outputs": [],
   "source": [
    "seq = ['soup','dog','salad','cat', 'great']"
   ]
  },
  {
   "cell_type": "code",
   "execution_count": 54,
   "id": "cd44af97-a459-42a8-98b7-85cadfb22d3f",
   "metadata": {},
   "outputs": [],
   "source": [
    "t = list(filter(lambda str: str[0:1] == 's',seq))"
   ]
  },
  {
   "cell_type": "code",
   "execution_count": 55,
   "id": "42f77cd7-9283-4c1c-bb0f-31a6e4a51d8a",
   "metadata": {},
   "outputs": [
    {
     "data": {
      "text/plain": [
       "['soup', 'salad']"
      ]
     },
     "execution_count": 55,
     "metadata": {},
     "output_type": "execute_result"
    }
   ],
   "source": [
    "t"
   ]
  },
  {
   "cell_type": "code",
   "execution_count": 57,
   "id": "c804aa58-59c3-4f5c-af62-0516aac5fdd1",
   "metadata": {},
   "outputs": [],
   "source": [
    "# You are driving a little too fast, and a police officer stops you.\n",
    "# Write a function to return one of 3 possible results: \"No ticket, \"Small ticket\"\n",
    "# or \"Big Ticket\". If your speed is 60 or less, the result is \"No Ticket\". If the speed\n",
    "# is between 61 and 80 inclusive, the result is \"Small ticket\". If speed is 81 or more, the result\n",
    "# is \"Big Ticket\". Unless it is your birthday (encoded as a boolean value in the parameters\n",
    "# of the function) -- on your birthday, your speed can be 5 higher in all cases"
   ]
  },
  {
   "cell_type": "code",
   "execution_count": 58,
   "id": "bcfe5e80-5ef1-4c70-893c-e181c4d8807f",
   "metadata": {},
   "outputs": [],
   "source": [
    "def caught_speeding(speed, is_birthday):\n",
    "    if is_birthday:\n",
    "        if speed <= 65:\n",
    "            return 'No ticket'\n",
    "        elif speed > 65 and speed <= 85:\n",
    "            return 'Small ticket'\n",
    "        elif speed > 85:\n",
    "            return 'Big Ticket'\n",
    "    else:\n",
    "        if speed <= 60:\n",
    "            return 'No ticket'\n",
    "        elif speed > 60 and speed <= 80:\n",
    "            return 'Small ticket'\n",
    "        elif speed > 80:\n",
    "            return 'Big Ticket'\n",
    "    "
   ]
  },
  {
   "cell_type": "code",
   "execution_count": 60,
   "id": "1085022e-2ce3-42dd-9a08-8c0eee63ca8c",
   "metadata": {},
   "outputs": [
    {
     "data": {
      "text/plain": [
       "'Small ticket'"
      ]
     },
     "execution_count": 60,
     "metadata": {},
     "output_type": "execute_result"
    }
   ],
   "source": [
    "caught_speeding(81,True)"
   ]
  }
 ],
 "metadata": {
  "kernelspec": {
   "display_name": "Python 3 (ipykernel)",
   "language": "python",
   "name": "python3"
  },
  "language_info": {
   "codemirror_mode": {
    "name": "ipython",
    "version": 3
   },
   "file_extension": ".py",
   "mimetype": "text/x-python",
   "name": "python",
   "nbconvert_exporter": "python",
   "pygments_lexer": "ipython3",
   "version": "3.12.6"
  }
 },
 "nbformat": 4,
 "nbformat_minor": 5
}
