{
 "cells": [
  {
   "cell_type": "markdown",
   "id": "82bfc4ff-37ae-4604-a200-5a632709538f",
   "metadata": {},
   "source": [
    "# Diabetes Prediction Model\n",
    "Using the following algorithms\n",
    "* Logistics Regression\n",
    "* Random Forest\n",
    "* XGBoost"
   ]
  },
  {
   "cell_type": "markdown",
   "id": "c03d0251-a543-4e32-a562-e02a21d5a350",
   "metadata": {},
   "source": [
    "Logistics Regression\n",
    "* Baseline Model - a simple, interpretable model that gives you a good starting point to compare other models against\n",
    "* Predic the probability of diabetes (0 or 1) based on a linear relationship between input features and the target.\n",
    "\n",
    "Random Forest\n",
    "* Capture complex patterns in the data by building an ensemble of decision trees\n",
    "* Each tree looks at a random subset of the data and features, and their collective decisions are aggregated (majority vote for classification)\n",
    "\n",
    "XGBoost\n",
    "* Build a highly accurate model by learning from the mistakes of previous trees in a boosting framework\n",
    "* Optimized for speed and performance, especially in structured/tabular data"
   ]
  },
  {
   "cell_type": "code",
   "execution_count": 5,
   "id": "b2a94489-5e4b-4262-a5fc-e7372eea64cd",
   "metadata": {},
   "outputs": [],
   "source": [
    "import numpy as np\n",
    "import pandas as pd"
   ]
  },
  {
   "cell_type": "code",
   "execution_count": 6,
   "id": "59cd83c2-ee5c-457b-a2c1-2c86d5ed26b3",
   "metadata": {},
   "outputs": [],
   "source": [
    "from sklearn.model_selection import train_test_split\n",
    "from sklearn.preprocessing import StandardScaler, LabelEncoder\n",
    "from sklearn.metrics import classification_report, confusion_matrix, roc_auc_score\n",
    "from sklearn.linear_model import LogisticRegression\n",
    "from sklearn.ensemble import RandomForestClassifier"
   ]
  },
  {
   "cell_type": "code",
   "execution_count": 7,
   "id": "a9439558-afdb-48b0-999d-1c18bdf762ea",
   "metadata": {},
   "outputs": [],
   "source": [
    "import xgboost as xgb"
   ]
  },
  {
   "cell_type": "code",
   "execution_count": 24,
   "id": "ceff5282-2c70-4466-8d78-9640b2b656dc",
   "metadata": {},
   "outputs": [],
   "source": [
    "import matplotlib.pyplot as plt\n",
    "import seaborn as sns"
   ]
  },
  {
   "cell_type": "code",
   "execution_count": 25,
   "id": "0fd3f273-88c3-4bbe-b23a-3027b6518b61",
   "metadata": {},
   "outputs": [],
   "source": [
    "#to see the visualizations on the jupyter notebook\n",
    "%matplotlib inline"
   ]
  },
  {
   "cell_type": "code",
   "execution_count": 28,
   "id": "e491865c-2122-4898-bb8e-38ec6e07af92",
   "metadata": {},
   "outputs": [],
   "source": [
    "#load the dataset\n",
    "df = pd.read_csv('diabetes_prediction_dataset.csv')"
   ]
  },
  {
   "cell_type": "code",
   "execution_count": 11,
   "id": "ded67e6a-05a1-4afd-b82f-63e5c18a3616",
   "metadata": {},
   "outputs": [],
   "source": [
    "#check the loaded data"
   ]
  },
  {
   "cell_type": "code",
   "execution_count": 30,
   "id": "c0c0e3be-d538-4769-a656-54e4ece3d508",
   "metadata": {},
   "outputs": [
    {
     "data": {
      "text/html": [
       "<div>\n",
       "<style scoped>\n",
       "    .dataframe tbody tr th:only-of-type {\n",
       "        vertical-align: middle;\n",
       "    }\n",
       "\n",
       "    .dataframe tbody tr th {\n",
       "        vertical-align: top;\n",
       "    }\n",
       "\n",
       "    .dataframe thead th {\n",
       "        text-align: right;\n",
       "    }\n",
       "</style>\n",
       "<table border=\"1\" class=\"dataframe\">\n",
       "  <thead>\n",
       "    <tr style=\"text-align: right;\">\n",
       "      <th></th>\n",
       "      <th>gender</th>\n",
       "      <th>age</th>\n",
       "      <th>hypertension</th>\n",
       "      <th>heart_disease</th>\n",
       "      <th>smoking_history</th>\n",
       "      <th>bmi</th>\n",
       "      <th>HbA1c_level</th>\n",
       "      <th>blood_glucose_level</th>\n",
       "      <th>diabetes</th>\n",
       "    </tr>\n",
       "  </thead>\n",
       "  <tbody>\n",
       "    <tr>\n",
       "      <th>0</th>\n",
       "      <td>Female</td>\n",
       "      <td>80.0</td>\n",
       "      <td>0</td>\n",
       "      <td>1</td>\n",
       "      <td>never</td>\n",
       "      <td>25.19</td>\n",
       "      <td>6.6</td>\n",
       "      <td>140</td>\n",
       "      <td>0</td>\n",
       "    </tr>\n",
       "    <tr>\n",
       "      <th>1</th>\n",
       "      <td>Female</td>\n",
       "      <td>54.0</td>\n",
       "      <td>0</td>\n",
       "      <td>0</td>\n",
       "      <td>No Info</td>\n",
       "      <td>27.32</td>\n",
       "      <td>6.6</td>\n",
       "      <td>80</td>\n",
       "      <td>0</td>\n",
       "    </tr>\n",
       "    <tr>\n",
       "      <th>2</th>\n",
       "      <td>Male</td>\n",
       "      <td>28.0</td>\n",
       "      <td>0</td>\n",
       "      <td>0</td>\n",
       "      <td>never</td>\n",
       "      <td>27.32</td>\n",
       "      <td>5.7</td>\n",
       "      <td>158</td>\n",
       "      <td>0</td>\n",
       "    </tr>\n",
       "    <tr>\n",
       "      <th>3</th>\n",
       "      <td>Female</td>\n",
       "      <td>36.0</td>\n",
       "      <td>0</td>\n",
       "      <td>0</td>\n",
       "      <td>current</td>\n",
       "      <td>23.45</td>\n",
       "      <td>5.0</td>\n",
       "      <td>155</td>\n",
       "      <td>0</td>\n",
       "    </tr>\n",
       "    <tr>\n",
       "      <th>4</th>\n",
       "      <td>Male</td>\n",
       "      <td>76.0</td>\n",
       "      <td>1</td>\n",
       "      <td>1</td>\n",
       "      <td>current</td>\n",
       "      <td>20.14</td>\n",
       "      <td>4.8</td>\n",
       "      <td>155</td>\n",
       "      <td>0</td>\n",
       "    </tr>\n",
       "  </tbody>\n",
       "</table>\n",
       "</div>"
      ],
      "text/plain": [
       "   gender   age  hypertension  heart_disease smoking_history    bmi  \\\n",
       "0  Female  80.0             0              1           never  25.19   \n",
       "1  Female  54.0             0              0         No Info  27.32   \n",
       "2    Male  28.0             0              0           never  27.32   \n",
       "3  Female  36.0             0              0         current  23.45   \n",
       "4    Male  76.0             1              1         current  20.14   \n",
       "\n",
       "   HbA1c_level  blood_glucose_level  diabetes  \n",
       "0          6.6                  140         0  \n",
       "1          6.6                   80         0  \n",
       "2          5.7                  158         0  \n",
       "3          5.0                  155         0  \n",
       "4          4.8                  155         0  "
      ]
     },
     "execution_count": 30,
     "metadata": {},
     "output_type": "execute_result"
    }
   ],
   "source": [
    "#check the data head\n",
    "df.head()"
   ]
  },
  {
   "cell_type": "code",
   "execution_count": 31,
   "id": "b1e5b74a-80fd-4bbc-a81f-d9078e123d31",
   "metadata": {},
   "outputs": [
    {
     "name": "stdout",
     "output_type": "stream",
     "text": [
      "<class 'pandas.core.frame.DataFrame'>\n",
      "RangeIndex: 100000 entries, 0 to 99999\n",
      "Data columns (total 9 columns):\n",
      " #   Column               Non-Null Count   Dtype  \n",
      "---  ------               --------------   -----  \n",
      " 0   gender               100000 non-null  object \n",
      " 1   age                  100000 non-null  float64\n",
      " 2   hypertension         100000 non-null  int64  \n",
      " 3   heart_disease        100000 non-null  int64  \n",
      " 4   smoking_history      100000 non-null  object \n",
      " 5   bmi                  100000 non-null  float64\n",
      " 6   HbA1c_level          100000 non-null  float64\n",
      " 7   blood_glucose_level  100000 non-null  int64  \n",
      " 8   diabetes             100000 non-null  int64  \n",
      "dtypes: float64(3), int64(4), object(2)\n",
      "memory usage: 6.9+ MB\n"
     ]
    }
   ],
   "source": [
    "# check som info about the data\n",
    "df.info()"
   ]
  },
  {
   "cell_type": "code",
   "execution_count": 32,
   "id": "a33b47f4-0460-4169-b367-13a750c04885",
   "metadata": {},
   "outputs": [
    {
     "data": {
      "text/html": [
       "<div>\n",
       "<style scoped>\n",
       "    .dataframe tbody tr th:only-of-type {\n",
       "        vertical-align: middle;\n",
       "    }\n",
       "\n",
       "    .dataframe tbody tr th {\n",
       "        vertical-align: top;\n",
       "    }\n",
       "\n",
       "    .dataframe thead th {\n",
       "        text-align: right;\n",
       "    }\n",
       "</style>\n",
       "<table border=\"1\" class=\"dataframe\">\n",
       "  <thead>\n",
       "    <tr style=\"text-align: right;\">\n",
       "      <th></th>\n",
       "      <th>age</th>\n",
       "      <th>hypertension</th>\n",
       "      <th>heart_disease</th>\n",
       "      <th>bmi</th>\n",
       "      <th>HbA1c_level</th>\n",
       "      <th>blood_glucose_level</th>\n",
       "      <th>diabetes</th>\n",
       "    </tr>\n",
       "  </thead>\n",
       "  <tbody>\n",
       "    <tr>\n",
       "      <th>count</th>\n",
       "      <td>100000.000000</td>\n",
       "      <td>100000.00000</td>\n",
       "      <td>100000.000000</td>\n",
       "      <td>100000.000000</td>\n",
       "      <td>100000.000000</td>\n",
       "      <td>100000.000000</td>\n",
       "      <td>100000.000000</td>\n",
       "    </tr>\n",
       "    <tr>\n",
       "      <th>mean</th>\n",
       "      <td>41.885856</td>\n",
       "      <td>0.07485</td>\n",
       "      <td>0.039420</td>\n",
       "      <td>27.320767</td>\n",
       "      <td>5.527507</td>\n",
       "      <td>138.058060</td>\n",
       "      <td>0.085000</td>\n",
       "    </tr>\n",
       "    <tr>\n",
       "      <th>std</th>\n",
       "      <td>22.516840</td>\n",
       "      <td>0.26315</td>\n",
       "      <td>0.194593</td>\n",
       "      <td>6.636783</td>\n",
       "      <td>1.070672</td>\n",
       "      <td>40.708136</td>\n",
       "      <td>0.278883</td>\n",
       "    </tr>\n",
       "    <tr>\n",
       "      <th>min</th>\n",
       "      <td>0.080000</td>\n",
       "      <td>0.00000</td>\n",
       "      <td>0.000000</td>\n",
       "      <td>10.010000</td>\n",
       "      <td>3.500000</td>\n",
       "      <td>80.000000</td>\n",
       "      <td>0.000000</td>\n",
       "    </tr>\n",
       "    <tr>\n",
       "      <th>25%</th>\n",
       "      <td>24.000000</td>\n",
       "      <td>0.00000</td>\n",
       "      <td>0.000000</td>\n",
       "      <td>23.630000</td>\n",
       "      <td>4.800000</td>\n",
       "      <td>100.000000</td>\n",
       "      <td>0.000000</td>\n",
       "    </tr>\n",
       "    <tr>\n",
       "      <th>50%</th>\n",
       "      <td>43.000000</td>\n",
       "      <td>0.00000</td>\n",
       "      <td>0.000000</td>\n",
       "      <td>27.320000</td>\n",
       "      <td>5.800000</td>\n",
       "      <td>140.000000</td>\n",
       "      <td>0.000000</td>\n",
       "    </tr>\n",
       "    <tr>\n",
       "      <th>75%</th>\n",
       "      <td>60.000000</td>\n",
       "      <td>0.00000</td>\n",
       "      <td>0.000000</td>\n",
       "      <td>29.580000</td>\n",
       "      <td>6.200000</td>\n",
       "      <td>159.000000</td>\n",
       "      <td>0.000000</td>\n",
       "    </tr>\n",
       "    <tr>\n",
       "      <th>max</th>\n",
       "      <td>80.000000</td>\n",
       "      <td>1.00000</td>\n",
       "      <td>1.000000</td>\n",
       "      <td>95.690000</td>\n",
       "      <td>9.000000</td>\n",
       "      <td>300.000000</td>\n",
       "      <td>1.000000</td>\n",
       "    </tr>\n",
       "  </tbody>\n",
       "</table>\n",
       "</div>"
      ],
      "text/plain": [
       "                 age  hypertension  heart_disease            bmi  \\\n",
       "count  100000.000000  100000.00000  100000.000000  100000.000000   \n",
       "mean       41.885856       0.07485       0.039420      27.320767   \n",
       "std        22.516840       0.26315       0.194593       6.636783   \n",
       "min         0.080000       0.00000       0.000000      10.010000   \n",
       "25%        24.000000       0.00000       0.000000      23.630000   \n",
       "50%        43.000000       0.00000       0.000000      27.320000   \n",
       "75%        60.000000       0.00000       0.000000      29.580000   \n",
       "max        80.000000       1.00000       1.000000      95.690000   \n",
       "\n",
       "         HbA1c_level  blood_glucose_level       diabetes  \n",
       "count  100000.000000        100000.000000  100000.000000  \n",
       "mean        5.527507           138.058060       0.085000  \n",
       "std         1.070672            40.708136       0.278883  \n",
       "min         3.500000            80.000000       0.000000  \n",
       "25%         4.800000           100.000000       0.000000  \n",
       "50%         5.800000           140.000000       0.000000  \n",
       "75%         6.200000           159.000000       0.000000  \n",
       "max         9.000000           300.000000       1.000000  "
      ]
     },
     "execution_count": 32,
     "metadata": {},
     "output_type": "execute_result"
    }
   ],
   "source": [
    "# get some statistical information about the data\n",
    "df.describe()"
   ]
  },
  {
   "cell_type": "code",
   "execution_count": 51,
   "id": "7a055aa7-bb7f-4d61-802b-3b73721ea84f",
   "metadata": {},
   "outputs": [
    {
     "data": {
      "text/plain": [
       "Index(['gender', 'age', 'hypertension', 'heart_disease', 'smoking_history',\n",
       "       'bmi', 'HbA1c_level', 'blood_glucose_level', 'diabetes'],\n",
       "      dtype='object')"
      ]
     },
     "execution_count": 51,
     "metadata": {},
     "output_type": "execute_result"
    }
   ],
   "source": [
    "#get the list of columns\n",
    "df.columns"
   ]
  },
  {
   "cell_type": "code",
   "execution_count": 54,
   "id": "8d48a696-01ab-48cc-ba8c-9a35a5e4f71e",
   "metadata": {},
   "outputs": [
    {
     "data": {
      "text/html": [
       "<div>\n",
       "<style scoped>\n",
       "    .dataframe tbody tr th:only-of-type {\n",
       "        vertical-align: middle;\n",
       "    }\n",
       "\n",
       "    .dataframe tbody tr th {\n",
       "        vertical-align: top;\n",
       "    }\n",
       "\n",
       "    .dataframe thead th {\n",
       "        text-align: right;\n",
       "    }\n",
       "</style>\n",
       "<table border=\"1\" class=\"dataframe\">\n",
       "  <thead>\n",
       "    <tr style=\"text-align: right;\">\n",
       "      <th></th>\n",
       "      <th>gender</th>\n",
       "      <th>age</th>\n",
       "      <th>hypertension</th>\n",
       "      <th>heart_disease</th>\n",
       "      <th>smoking_history</th>\n",
       "      <th>bmi</th>\n",
       "      <th>HbA1c_level</th>\n",
       "      <th>blood_glucose_level</th>\n",
       "      <th>diabetes</th>\n",
       "    </tr>\n",
       "  </thead>\n",
       "  <tbody>\n",
       "    <tr>\n",
       "      <th>gender</th>\n",
       "      <td>1.000000</td>\n",
       "      <td>-0.030656</td>\n",
       "      <td>0.014203</td>\n",
       "      <td>0.077696</td>\n",
       "      <td>-0.077919</td>\n",
       "      <td>-0.022994</td>\n",
       "      <td>0.019957</td>\n",
       "      <td>0.017199</td>\n",
       "      <td>0.037411</td>\n",
       "    </tr>\n",
       "    <tr>\n",
       "      <th>age</th>\n",
       "      <td>-0.030656</td>\n",
       "      <td>1.000000</td>\n",
       "      <td>0.251171</td>\n",
       "      <td>0.233354</td>\n",
       "      <td>0.228608</td>\n",
       "      <td>0.337396</td>\n",
       "      <td>0.101354</td>\n",
       "      <td>0.110672</td>\n",
       "      <td>0.258008</td>\n",
       "    </tr>\n",
       "    <tr>\n",
       "      <th>hypertension</th>\n",
       "      <td>0.014203</td>\n",
       "      <td>0.251171</td>\n",
       "      <td>1.000000</td>\n",
       "      <td>0.121262</td>\n",
       "      <td>0.093177</td>\n",
       "      <td>0.147666</td>\n",
       "      <td>0.080939</td>\n",
       "      <td>0.084429</td>\n",
       "      <td>0.197823</td>\n",
       "    </tr>\n",
       "    <tr>\n",
       "      <th>heart_disease</th>\n",
       "      <td>0.077696</td>\n",
       "      <td>0.233354</td>\n",
       "      <td>0.121262</td>\n",
       "      <td>1.000000</td>\n",
       "      <td>0.027598</td>\n",
       "      <td>0.061198</td>\n",
       "      <td>0.067589</td>\n",
       "      <td>0.070066</td>\n",
       "      <td>0.171727</td>\n",
       "    </tr>\n",
       "    <tr>\n",
       "      <th>smoking_history</th>\n",
       "      <td>-0.077919</td>\n",
       "      <td>0.228608</td>\n",
       "      <td>0.093177</td>\n",
       "      <td>0.027598</td>\n",
       "      <td>1.000000</td>\n",
       "      <td>0.179361</td>\n",
       "      <td>0.037369</td>\n",
       "      <td>0.040219</td>\n",
       "      <td>0.094290</td>\n",
       "    </tr>\n",
       "    <tr>\n",
       "      <th>bmi</th>\n",
       "      <td>-0.022994</td>\n",
       "      <td>0.337396</td>\n",
       "      <td>0.147666</td>\n",
       "      <td>0.061198</td>\n",
       "      <td>0.179361</td>\n",
       "      <td>1.000000</td>\n",
       "      <td>0.082997</td>\n",
       "      <td>0.091261</td>\n",
       "      <td>0.214357</td>\n",
       "    </tr>\n",
       "    <tr>\n",
       "      <th>HbA1c_level</th>\n",
       "      <td>0.019957</td>\n",
       "      <td>0.101354</td>\n",
       "      <td>0.080939</td>\n",
       "      <td>0.067589</td>\n",
       "      <td>0.037369</td>\n",
       "      <td>0.082997</td>\n",
       "      <td>1.000000</td>\n",
       "      <td>0.166733</td>\n",
       "      <td>0.400660</td>\n",
       "    </tr>\n",
       "    <tr>\n",
       "      <th>blood_glucose_level</th>\n",
       "      <td>0.017199</td>\n",
       "      <td>0.110672</td>\n",
       "      <td>0.084429</td>\n",
       "      <td>0.070066</td>\n",
       "      <td>0.040219</td>\n",
       "      <td>0.091261</td>\n",
       "      <td>0.166733</td>\n",
       "      <td>1.000000</td>\n",
       "      <td>0.419558</td>\n",
       "    </tr>\n",
       "    <tr>\n",
       "      <th>diabetes</th>\n",
       "      <td>0.037411</td>\n",
       "      <td>0.258008</td>\n",
       "      <td>0.197823</td>\n",
       "      <td>0.171727</td>\n",
       "      <td>0.094290</td>\n",
       "      <td>0.214357</td>\n",
       "      <td>0.400660</td>\n",
       "      <td>0.419558</td>\n",
       "      <td>1.000000</td>\n",
       "    </tr>\n",
       "  </tbody>\n",
       "</table>\n",
       "</div>"
      ],
      "text/plain": [
       "                       gender       age  hypertension  heart_disease  \\\n",
       "gender               1.000000 -0.030656      0.014203       0.077696   \n",
       "age                 -0.030656  1.000000      0.251171       0.233354   \n",
       "hypertension         0.014203  0.251171      1.000000       0.121262   \n",
       "heart_disease        0.077696  0.233354      0.121262       1.000000   \n",
       "smoking_history     -0.077919  0.228608      0.093177       0.027598   \n",
       "bmi                 -0.022994  0.337396      0.147666       0.061198   \n",
       "HbA1c_level          0.019957  0.101354      0.080939       0.067589   \n",
       "blood_glucose_level  0.017199  0.110672      0.084429       0.070066   \n",
       "diabetes             0.037411  0.258008      0.197823       0.171727   \n",
       "\n",
       "                     smoking_history       bmi  HbA1c_level  \\\n",
       "gender                     -0.077919 -0.022994     0.019957   \n",
       "age                         0.228608  0.337396     0.101354   \n",
       "hypertension                0.093177  0.147666     0.080939   \n",
       "heart_disease               0.027598  0.061198     0.067589   \n",
       "smoking_history             1.000000  0.179361     0.037369   \n",
       "bmi                         0.179361  1.000000     0.082997   \n",
       "HbA1c_level                 0.037369  0.082997     1.000000   \n",
       "blood_glucose_level         0.040219  0.091261     0.166733   \n",
       "diabetes                    0.094290  0.214357     0.400660   \n",
       "\n",
       "                     blood_glucose_level  diabetes  \n",
       "gender                          0.017199  0.037411  \n",
       "age                             0.110672  0.258008  \n",
       "hypertension                    0.084429  0.197823  \n",
       "heart_disease                   0.070066  0.171727  \n",
       "smoking_history                 0.040219  0.094290  \n",
       "bmi                             0.091261  0.214357  \n",
       "HbA1c_level                     0.166733  0.400660  \n",
       "blood_glucose_level             1.000000  0.419558  \n",
       "diabetes                        0.419558  1.000000  "
      ]
     },
     "execution_count": 54,
     "metadata": {},
     "output_type": "execute_result"
    }
   ],
   "source": [
    "df.corr()"
   ]
  },
  {
   "cell_type": "code",
   "execution_count": 56,
   "id": "f616aa9c-6aa1-4648-951b-ed2718cdc874",
   "metadata": {},
   "outputs": [
    {
     "data": {
      "text/plain": [
       "<Axes: >"
      ]
     },
     "execution_count": 56,
     "metadata": {},
     "output_type": "execute_result"
    },
    {
     "data": {
      "image/png": "[encoded data removed]",
      "text/plain": [
       "<Figure size 640x480 with 2 Axes>"
      ]
     },
     "metadata": {},
     "output_type": "display_data"
    }
   ],
   "source": [
    "sns.heatmap(df.corr(),annot=True)"
   ]
  },
  {
   "cell_type": "markdown",
   "id": "3cdc100a-03a7-47bc-b12f-da6fcc59ad15",
   "metadata": {},
   "source": [
    "# Data Preprocessing"
   ]
  },
  {
   "cell_type": "code",
   "execution_count": 41,
   "id": "7fb9db8f-9674-4e81-b17e-3507b51b7283",
   "metadata": {},
   "outputs": [
    {
     "name": "stdout",
     "output_type": "stream",
     "text": [
      "gender                 0\n",
      "age                    0\n",
      "hypertension           0\n",
      "heart_disease          0\n",
      "smoking_history        0\n",
      "bmi                    0\n",
      "HbA1c_level            0\n",
      "blood_glucose_level    0\n",
      "diabetes               0\n",
      "dtype: int64\n"
     ]
    }
   ],
   "source": [
    "#check for nulls\n",
    "print(df.isnull().sum())"
   ]
  },
  {
   "cell_type": "code",
   "execution_count": null,
   "id": "182459a9-f384-495f-aaa9-1404c09ce889",
   "metadata": {},
   "outputs": [],
   "source": [
    "# no nulls were found in our data"
   ]
  },
  {
   "cell_type": "code",
   "execution_count": 42,
   "id": "99d18cd0-1c27-41da-bc59-fff028cfcedd",
   "metadata": {},
   "outputs": [],
   "source": [
    "#encode categorical variables to convert to numerical values\n",
    "label_enc = LabelEncoder()"
   ]
  },
  {
   "cell_type": "code",
   "execution_count": 43,
   "id": "b8aa9d64-b9bb-47ae-b97b-9e734581c658",
   "metadata": {},
   "outputs": [],
   "source": [
    "df['gender'] = label_enc.fit_transform(df['gender'])\n",
    "df['smoking_history'] = label_enc.fit_transform(df['smoking_history'])"
   ]
  },
  {
   "cell_type": "code",
   "execution_count": 47,
   "id": "4b2d27fe-70e4-41bc-beb0-3ed3ab303e67",
   "metadata": {},
   "outputs": [],
   "source": [
    "# dependent and independent variables\n",
    "# put all the columns on the independent variables except for diabetes\n",
    "X = df.drop('diabetes', axis=1)\n",
    "# set diabetes column as the dependent variables\n",
    "y= df['diabetes']"
   ]
  },
  {
   "cell_type": "code",
   "execution_count": 50,
   "id": "c1edd032-c9ed-4395-9d42-2b7b586a8f98",
   "metadata": {},
   "outputs": [],
   "source": [
    "# Splitting data into training and testing sets\n",
    "# training data 70% and testing data 30%"
   ]
  },
  {
   "cell_type": "code",
   "execution_count": 57,
   "id": "36713103-9528-45f4-8d67-84d3aa36bb35",
   "metadata": {},
   "outputs": [],
   "source": [
    "X_train, X_test, y_train, y_test = train_test_split(X, y, test_size=0.3, random_state=42)"
   ]
  },
  {
   "cell_type": "code",
   "execution_count": 58,
   "id": "c0d6c855-a137-4e69-b66e-6fcefd5370f2",
   "metadata": {},
   "outputs": [],
   "source": [
    "# Feature Scaling"
   ]
  },
  {
   "cell_type": "code",
   "execution_count": 60,
   "id": "65fb0444-cac0-443a-bdaa-8f56d877ee06",
   "metadata": {},
   "outputs": [],
   "source": [
    "scaler = StandardScaler()\n",
    "X_train_scaled = scaler.fit_transform(X_train)\n",
    "X_test_scaled = scaler.transform(X_test)"
   ]
  },
  {
   "cell_type": "markdown",
   "id": "82b765aa-3a92-4bc4-8f45-be5d74fc243b",
   "metadata": {},
   "source": [
    "# Training and Predicting"
   ]
  },
  {
   "cell_type": "code",
   "execution_count": 61,
   "id": "ad1160b6-c86f-4188-9640-d27cfd264812",
   "metadata": {},
   "outputs": [],
   "source": [
    "# Logical Regression"
   ]
  },
  {
   "cell_type": "code",
   "execution_count": 62,
   "id": "f7f00dff-1b04-429b-b763-dcb2fe025f9b",
   "metadata": {},
   "outputs": [],
   "source": [
    "log_reg = LogisticRegression()"
   ]
  },
  {
   "cell_type": "code",
   "execution_count": 99,
   "id": "0ceddc08-e69f-4ade-83cc-d46d7a884751",
   "metadata": {},
   "outputs": [],
   "source": [
    "# Training\n",
    "log_reg.fit(X_train_scaled,y_train)\n",
    "# Predicting\n",
    "y_pred_log = log_reg.predict(X_test_scaled)"
   ]
  },
  {
   "cell_type": "code",
   "execution_count": 100,
   "id": "05d6c4b3-b254-4605-97de-5d70a85cb2d6",
   "metadata": {},
   "outputs": [
    {
     "name": "stdout",
     "output_type": "stream",
     "text": [
      "-----Logical Regression------\n",
      "              precision    recall  f1-score   support\n",
      "\n",
      "           0       0.97      0.99      0.98     27453\n",
      "           1       0.86      0.61      0.72      2547\n",
      "\n",
      "    accuracy                           0.96     30000\n",
      "   macro avg       0.91      0.80      0.85     30000\n",
      "weighted avg       0.96      0.96      0.96     30000\n",
      "\n"
     ]
    }
   ],
   "source": [
    "print(\"-----Logical Regression------\")\n",
    "print(classification_report(y_test, y_pred_log))"
   ]
  },
  {
   "cell_type": "markdown",
   "id": "16f4f285-102a-470f-9051-5e47acf09711",
   "metadata": {},
   "source": [
    "RESULT INTERPRETATION FOR LOGICAL REGRESSION"
   ]
  },
  {
   "cell_type": "markdown",
   "id": "091ebffa-cfcb-4d46-ba8b-57527a90402a",
   "metadata": {},
   "source": [
    "Precision - Of all patients predicted as diabetic, how many were actually diabetic?\n",
    "* Class 0 (No diabetes): 97% of predicted non-diabetics were truly non-diabetic\n",
    "* Class 1 (Diabetes): 86% of predicted diabetics were correct — decent, but room for improvement."
   ]
  },
  {
   "cell_type": "markdown",
   "id": "1a680ea2-02da-44d0-8f12-164d2850e532",
   "metadata": {},
   "source": [
    "Recall - Of all actual diabetic patients, how many did the model correctly identify?\n",
    "* Class 0: 99% of actual non-diabetics were correctly identified.\n",
    "* Class 1: Only 61% of actual diabetics were caught — this is a concern for a medical model, because 39% of diabetics were missed."
   ]
  },
  {
   "cell_type": "markdown",
   "id": "bcdc22be-fa19-4e79-bdb7-a6c941b271b4",
   "metadata": {},
   "source": [
    "F1-Score - Harmonic mean of precision & recall. Good when balance is considered.\n",
    "* Class 1 F1-score = 0.72 → reflects a trade-off between decent precision but lower recall."
   ]
  },
  {
   "cell_type": "markdown",
   "id": "5e2cfc2b-9498-429f-9dea-883396c51b25",
   "metadata": {},
   "source": [
    "Overall Accuracy: 96%\n",
    "* The model is very good at identifying non-diabetic patients.\n",
    "* It struggles to catch all diabetic patients — only 61% recall.\n",
    "* In healthcare, recall for positive cases (diabetics) is usually more important — its possible to flag a false positive than miss a diabetic case."
   ]
  },
  {
   "cell_type": "code",
   "execution_count": 68,
   "id": "74fd4c33-ac09-4f18-8060-e9e33efcec25",
   "metadata": {},
   "outputs": [],
   "source": [
    "# Random Forest"
   ]
  },
  {
   "cell_type": "code",
   "execution_count": 73,
   "id": "ef792c26-51f2-4036-a1e0-1e0a407ebc59",
   "metadata": {},
   "outputs": [],
   "source": [
    "rf = RandomForestClassifier(n_estimators=200, random_state=42)"
   ]
  },
  {
   "cell_type": "code",
   "execution_count": 101,
   "id": "01bb8a6b-7ff5-447b-87bd-cb1f7de6561d",
   "metadata": {},
   "outputs": [],
   "source": [
    "# Training\n",
    "rf.fit(X_train, y_train)\n",
    "# Predicting\n",
    "y_pred_rf = rf.predict(X_test)"
   ]
  },
  {
   "cell_type": "code",
   "execution_count": 91,
   "id": "280693d1-879f-4ff6-90ea-26bd71991d1c",
   "metadata": {},
   "outputs": [
    {
     "name": "stdout",
     "output_type": "stream",
     "text": [
      "-----Random Forest------\n",
      "              precision    recall  f1-score   support\n",
      "\n",
      "           0       0.97      1.00      0.98     27453\n",
      "           1       0.96      0.68      0.80      2547\n",
      "\n",
      "    accuracy                           0.97     30000\n",
      "   macro avg       0.96      0.84      0.89     30000\n",
      "weighted avg       0.97      0.97      0.97     30000\n",
      "\n"
     ]
    }
   ],
   "source": [
    "print(\"-----Random Forest------\")\n",
    "print(classification_report(y_test, y_pred_rf))"
   ]
  },
  {
   "cell_type": "markdown",
   "id": "8634e411-f524-4b7f-a454-1e46e2234a24",
   "metadata": {},
   "source": [
    "RESULT FOR RANDOM FOREST"
   ]
  },
  {
   "cell_type": "markdown",
   "id": "e19032c0-0f0a-4561-8615-72094f47ad0b",
   "metadata": {},
   "source": [
    "Precision (class 1 = diabetes = 0.96)\n",
    "* Of all the patients the model predicted as diabetic, 96% were actually diabetic.\n",
    "* That’s really good — fewer false positives."
   ]
  },
  {
   "cell_type": "markdown",
   "id": "036d388f-3651-4e5d-ae6f-bca294de2bbd",
   "metadata": {},
   "source": [
    "Recall (class 1 = 0.68)\n",
    "* Of all the actual diabetics, it correctly identified 68%.\n",
    "* This is better than Logistic Regression (which was 61% recall), but still means 32% of diabetics were missed"
   ]
  },
  {
   "cell_type": "markdown",
   "id": "60f670f2-407b-49d6-b914-2ee62c449603",
   "metadata": {},
   "source": [
    "F1-score (class 1 = 0.80)\n",
    "* Balanced view between precision and recall — shows much better overall in finding diabetic patients than with logistic regression (which had 0.72 F1)."
   ]
  },
  {
   "cell_type": "markdown",
   "id": "87667f65-fc90-4b11-9172-c79c6453dcdc",
   "metadata": {},
   "source": [
    "Overall Accuracy: 97%\n",
    "* Excellent at finding non-diabetics (class 0 recall = 1.00).\n",
    "* Much better than Logistic Regression at finding diabetics, but still missing about 1 in 3 cases.\n",
    "* In a medical context, you may want to push that recall even higher to avoid missing diabetics"
   ]
  },
  {
   "cell_type": "code",
   "execution_count": 77,
   "id": "48581d3a-19d4-4a8f-ac0a-d865789f5522",
   "metadata": {},
   "outputs": [],
   "source": [
    "# XGBoost"
   ]
  },
  {
   "cell_type": "code",
   "execution_count": 115,
   "id": "cf5d8b39-e07b-425d-aa3f-36cd1a6aa631",
   "metadata": {},
   "outputs": [],
   "source": [
    "xgb_model = xgb.XGBClassifier(scale_pos_weight=len(y_train[y_train == 0]) / len(y_train[y_train == 1]))"
   ]
  },
  {
   "cell_type": "code",
   "execution_count": 116,
   "id": "cafd3b12-da20-4a64-9eb9-d8b7033c1b02",
   "metadata": {},
   "outputs": [],
   "source": [
    "# Training\n",
    "xgb_model.fit(X_train, y_train)\n",
    "# Predicting\n",
    "y_pred_xgb = xgb_model.predict(X_test)"
   ]
  },
  {
   "cell_type": "code",
   "execution_count": 117,
   "id": "6f764c0a-f932-4650-9d93-86c38afa06c2",
   "metadata": {},
   "outputs": [
    {
     "name": "stdout",
     "output_type": "stream",
     "text": [
      "-----XGBoost------\n",
      "              precision    recall  f1-score   support\n",
      "\n",
      "           0       0.97      1.00      0.98     27453\n",
      "           1       0.96      0.68      0.80      2547\n",
      "\n",
      "    accuracy                           0.97     30000\n",
      "   macro avg       0.96      0.84      0.89     30000\n",
      "weighted avg       0.97      0.97      0.97     30000\n",
      "\n"
     ]
    }
   ],
   "source": [
    "print(\"-----XGBoost------\")\n",
    "print(classification_report(y_test, y_pred_rf))"
   ]
  },
  {
   "cell_type": "code",
   "execution_count": 118,
   "id": "ce763dfe-120d-4375-9ed3-c0a30ceed444",
   "metadata": {},
   "outputs": [],
   "source": [
    "#ROC -AUC for XGBoost"
   ]
  },
  {
   "cell_type": "code",
   "execution_count": 121,
   "id": "0948757d-26f9-482e-aa2e-7e20012fd0ba",
   "metadata": {},
   "outputs": [
    {
     "name": "stdout",
     "output_type": "stream",
     "text": [
      "XGBoost ROC-AUC Score: 0.977947640848604\n"
     ]
    }
   ],
   "source": [
    "y_proba = xgb_model.predict_proba(X_test)[:,1]\n",
    "print(\"XGBoost ROC-AUC Score:\", roc_auc_score(y_test, y_proba))"
   ]
  },
  {
   "cell_type": "raw",
   "id": "0a70094f-489a-4b76-981d-cfd196232a2e",
   "metadata": {},
   "source": [
    "RESULT FOR XGBOOST"
   ]
  },
  {
   "cell_type": "markdown",
   "id": "d7a14c3a-d398-4ae7-9fc0-e1849dc9a56b",
   "metadata": {},
   "source": [
    "The result were quite similar to Random Forest\n",
    "Since ROC-AUC = 0.978, it means:\n",
    "* XGBoost model is highly effective at distinguishing between diabetics and non-diabetics.\n",
    "* There’s a very high chance that a randomly chosen diabetic patient will be ranked higher than a non-diabetic patient."
   ]
  },
  {
   "cell_type": "markdown",
   "id": "f15521e1-aad0-4af2-b1c3-29c9db4f2b1d",
   "metadata": {},
   "source": [
    "ROC-AUC Definition\n",
    "* ROC (Receiver Operating Characteristic) Curve: Plots True Positive Rate (Recall) vs. False Positive Rate.\n",
    "* AUC (Area Under the Curve): Measures the overall ability of the model to distinguish between diabetic and non-diabetic patients."
   ]
  }
 ],
 "metadata": {
  "kernelspec": {
   "display_name": "Python 3 (ipykernel)",
   "language": "python",
   "name": "python3"
  },
  "language_info": {
   "codemirror_mode": {
    "name": "ipython",
    "version": 3
   },
   "file_extension": ".py",
   "mimetype": "text/x-python",
   "name": "python",
   "nbconvert_exporter": "python",
   "pygments_lexer": "ipython3",
   "version": "3.12.6"
  }
 },
 "nbformat": 4,
 "nbformat_minor": 5
}
